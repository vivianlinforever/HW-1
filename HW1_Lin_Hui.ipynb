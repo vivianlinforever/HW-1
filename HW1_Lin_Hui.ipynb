{
  "nbformat": 4,
  "nbformat_minor": 0,
  "metadata": {
    "colab": {
      "name": "HW1_Lin_Hui.ipynb",
      "provenance": [],
      "collapsed_sections": []
    },
    "kernelspec": {
      "name": "python3",
      "display_name": "Python 3"
    }
  },
  "cells": [
    {
      "cell_type": "markdown",
      "metadata": {
        "id": "hm8RAKinXsIP"
      },
      "source": [
        "## **Homework 1**\n",
        "\n",
        "### Create a copy of the notebook to start answering the questions. Name your notebook in the format HW1_lastname_firstname.ipynb to facilitate the grading process. \n",
        "\n",
        "### Answer all the questions, test your code to ensure there are no errors and the results are as expected. Once you have answered all the questions, save the final copy, then go to File-> click on Download.ipynb. Once the local copy has been downloaded, submit your file on Blackboard under the corresponding assignment section. Also provide us a link to your notebook during submission. \n",
        "\n",
        "### **The due date of this homework is 02/05/2021 (Friday).**\n",
        "\n",
        "### Please ensure you follow all the steps mentioned in the homework.\n",
        "\n",
        "### All the questions have a sample input and output to help you understand the question. Please note that your programs will be tested for other sets of inputs and outputs along with the sample provided. So test your code for other inputs.\n",
        "\n",
        "### You can submit your solutions any number of times until the deadline.\n"
      ]
    },
    {
      "cell_type": "markdown",
      "metadata": {
        "id": "uacFrEaZfcfq"
      },
      "source": [
        "##### Q1. Write a program that prompts the user to enter a password then prints the length of the password.\n",
        "\n",
        "```\n",
        "Enter your password: hello\n",
        "Your password is 5 long.\n",
        "```\n",
        "\n",
        "\n"
      ]
    },
    {
      "cell_type": "code",
      "metadata": {
        "id": "avPyES14ftCt",
        "colab": {
          "base_uri": "https://localhost:8080/"
        },
        "outputId": "a313a257-4552-4521-f1d1-df7aa4726eb7"
      },
      "source": [
        "password = input(\"Enter your password: \")\n",
        "print(\"Your password is \"+ str(len(password))+ \" long.\")\n"
      ],
      "execution_count": null,
      "outputs": [
        {
          "output_type": "stream",
          "text": [
            "Enter your password: hello\n",
            "Your password is 5 long.\n"
          ],
          "name": "stdout"
        }
      ]
    },
    {
      "cell_type": "markdown",
      "metadata": {
        "id": "ekh-kABuItli"
      },
      "source": [
        ""
      ]
    },
    {
      "cell_type": "markdown",
      "metadata": {
        "id": "K1yko-xUItU3"
      },
      "source": [
        ""
      ]
    },
    {
      "cell_type": "markdown",
      "metadata": {
        "id": "behD0j_Of2TW"
      },
      "source": [
        "##### Q2. Write a program that prompts the user to enter their full name then prints the number of characters in their name (do not count spaces).\n",
        "\n",
        "```\n",
        "What is your name? Amulya Katti\n",
        "Amulya Katti your name has 11 characters.\n",
        "```"
      ]
    },
    {
      "cell_type": "code",
      "metadata": {
        "id": "XSdIRjwlhSlu",
        "colab": {
          "base_uri": "https://localhost:8080/"
        },
        "outputId": "85ea87af-dedc-42a0-d2f5-3e6be649aa8e"
      },
      "source": [
        "name = input(\"What is your name? \")\n",
        "print(name.capitalize() + \" your name has \"+ str(len(name)-1)+ \" characters.\")"
      ],
      "execution_count": null,
      "outputs": [
        {
          "output_type": "stream",
          "text": [
            "What is your name? Amulya Katti\n",
            "Amulya katti your name has 11 characters.\n"
          ],
          "name": "stdout"
        }
      ]
    },
    {
      "cell_type": "markdown",
      "metadata": {
        "id": "5KHOWF6FhVHV"
      },
      "source": [
        "##### Q3. Write a program that prompts the user to enter a month (as a number), then prints the name of the month and the number of days in that month. Ensure that the user inputs a valid month and handle any error cases.\n",
        "\n",
        "```\n",
        "Enter the month number: 9\n",
        "September has 30 days\n",
        "```"
      ]
    },
    {
      "cell_type": "code",
      "metadata": {
        "id": "KhS-SAEThyTG",
        "colab": {
          "base_uri": "https://localhost:8080/"
        },
        "outputId": "fc9adf74-73f1-40b9-f723-3c883fc97993"
      },
      "source": [
        "month_number = input (\"Enter the month number: \")\n",
        "month_name_map = {\n",
        "    'Januaray': '31',\n",
        "    'Feburary': '28 or 29',\n",
        "    'March': '31',\n",
        "    'April': '30',\n",
        "    'May': '31',\n",
        "    'June': '30',\n",
        "    'July': '31',\n",
        "    'August': '31',\n",
        "    'September': '30',\n",
        "    'October': '31',\n",
        "    'November': '30',\n",
        "    'December': '31'\n",
        "}\n",
        "\n",
        "# Big Name\n",
        "month_name_list = list(month_name_map.keys())\n",
        "\n",
        "# Small To Big\n",
        "lower_name_map = {}\n",
        "for k, v in month_name_map.items():\n",
        "  lower_name_map[k.lower()] = k\n",
        "\n",
        "# int To day\n",
        "month_day_list = list(month_name_map.values())\n",
        "month_number_list = [str(i) for i in range(1, 13)]\n",
        "\n",
        "def get_month(inp_str):\n",
        "  inp_str = inp_str.lower()\n",
        "  if inp_str in month_number_list:\n",
        "    inp_int = int(inp_str) - 1\n",
        "    return month_name_list[inp_int], month_day_list[inp_int]\n",
        "  if inp_str in lower_name_map:\n",
        "    return lower_name_map[inp_str], month_name_map[lower_name_map[inp_str]]\n",
        "  \n",
        "    print(\"Wrong inp month number\")\n",
        "\n",
        "name, day = get_month(month_number)\n",
        "print(\"{} has {} days\".format(name, day))\n"
      ],
      "execution_count": null,
      "outputs": [
        {
          "output_type": "stream",
          "text": [
            "Enter the month number: 9\n",
            "September has 30 days\n"
          ],
          "name": "stdout"
        }
      ]
    },
    {
      "cell_type": "markdown",
      "metadata": {
        "id": "O7lnAdGlh6Xa"
      },
      "source": [
        "[链接文字](https://)##### Q4. Write a program that prompts the user to enter a loan amount, annual interest rate, and number of years  for a car loan. Then calculate and print the monthly payment amount.\n",
        "\n",
        "Note:\n",
        "```\n",
        "PMT= [PV*i*((1+i)^n)]/[((1+i)^n)-1]\n",
        "```\n",
        "PMT is the monthly payment\n",
        "\n",
        "PV is the loan amount\n",
        "\n",
        "i is the interest rate per month in decimal form (interest rate percentage divided by 12)\n",
        "\n",
        "n is the number of months (term of the loan in months)\n",
        "\n",
        "```\n",
        "Loan Amount: 30000.00\n",
        "Annual Interest Rate: 4.00\n",
        "Years: 5\n",
        "Your monthly payment is: $552.50\n",
        "```"
      ]
    },
    {
      "cell_type": "code",
      "metadata": {
        "id": "p4B5JH5GiTs9",
        "colab": {
          "base_uri": "https://localhost:8080/"
        },
        "outputId": "3339e691-17e5-4bd7-a02c-e734685ca494"
      },
      "source": [
        "PV= input(\"Loan Amount: \")\n",
        "PV = float(PV)\n",
        "\n",
        "annual_interest= input(\"Annual Interest Rate: \")\n",
        "annual_interest = float(annual_interest)\n",
        "\n",
        "years = input (\"Years: \")\n",
        "years = float(years)\n",
        "\n",
        "i = annual_interest / 100 / 12.0\n",
        "n = years * 12\n",
        "\n",
        "PMT = (PV*i*((1+i)**n))/(((1+i)**n)-1) \n",
        "\n",
        "print(\"Your monthly payment is: ${}\".format(PMT)) \n",
        "\n"
      ],
      "execution_count": null,
      "outputs": [
        {
          "output_type": "stream",
          "text": [
            "Loan Amount: 30000\n",
            "Annual Interest Rate: 4\n",
            "Years: 5\n",
            "Your monthly payment is: $552.4956616579791\n"
          ],
          "name": "stdout"
        }
      ]
    },
    {
      "cell_type": "markdown",
      "metadata": {
        "id": "SjiolJKgiWV-"
      },
      "source": [
        "##### Q5. Write a program to that prompts the user to enter a string. Then check whether or not the string is a palindrome.\n",
        "\n",
        "```\n",
        "Enter a string: Madam\n",
        "Madam, is a palindrome!\n",
        "```"
      ]
    },
    {
      "cell_type": "code",
      "metadata": {
        "id": "F5_M934Ri0es",
        "colab": {
          "base_uri": "https://localhost:8080/"
        },
        "outputId": "e811c796-7566-4d2c-c47d-4e237b015cce"
      },
      "source": [
        "inp = input (\"Enter a string: \")\n",
        "is_palidrome = True\n",
        "for i, c in enumerate(inp):\n",
        "  if c != inp[len(inp) - i - 1]:\n",
        "    is_palidrome = False\n",
        "    break\n",
        "if is_palidrome:\n",
        "  print(inp + \", is a palindrome!\")\n",
        "else:\n",
        "  print(inp + \", is not a palidrome!\")\n",
        "\n",
        "\n"
      ],
      "execution_count": null,
      "outputs": [
        {
          "output_type": "stream",
          "text": [
            "Enter a string: Madam\n",
            "Madam, is not a palidrome!\n"
          ],
          "name": "stdout"
        }
      ]
    },
    {
      "cell_type": "markdown",
      "metadata": {
        "id": "BLBD6n9vkJEu"
      },
      "source": [
        "##### Q6. Write a program to compute and print all possible combinations of change for \\$1. Denominations to be considered – quarter, dime, nickel, penny.\n",
        "\n",
        "Hint: Use nested loops (loops within loops for the various denominations of coins)\n",
        "\n",
        "```\n",
        "Change for $1:\n",
        "0 quarters, 0 dimes, 0 nickels, 100 pennies\n",
        "…\n",
        "4 quarters, 0 dimes, 0 nickels, 0 pennies\n",
        "```"
      ]
    },
    {
      "cell_type": "code",
      "metadata": {
        "id": "kAQsTjwDkZZ5",
        "colab": {
          "base_uri": "https://localhost:8080/"
        },
        "outputId": "6ac5b9d4-fc98-4d01-84c4-bd53d3f4fbf3"
      },
      "source": [
        "c_list = [25, 10, 5, 1]\n",
        "current = 100\n",
        "for a in range(0, 100 // c_list[0] + 1):\n",
        "  current -= a * c_list[0]\n",
        "  for b in range(0, current // c_list[1] + 1):\n",
        "    current -= b * c_list[1]\n",
        "    for c in range(0, current // c_list[2] + 1):\n",
        "      current -= c * c_list[2]\n",
        "      if current >= 0 and current // c_list[3] * c_list[3] == current:\n",
        "        d = current / c_list[3]\n",
        "        print('{} quarters, {} dimes, {} nickels, {} pennies'.format(a, b, c, d))\n",
        "      current += c * c_list[2]\n",
        "    current += b * c_list[1]\n",
        "  current += a * c_list[0]\n",
        "\n",
        "\n"
      ],
      "execution_count": null,
      "outputs": [
        {
          "output_type": "stream",
          "text": [
            "0 quarters, 0 dimes, 0 nickels, 100.0 pennies\n",
            "0 quarters, 0 dimes, 1 nickels, 95.0 pennies\n",
            "0 quarters, 0 dimes, 2 nickels, 90.0 pennies\n",
            "0 quarters, 0 dimes, 3 nickels, 85.0 pennies\n",
            "0 quarters, 0 dimes, 4 nickels, 80.0 pennies\n",
            "0 quarters, 0 dimes, 5 nickels, 75.0 pennies\n",
            "0 quarters, 0 dimes, 6 nickels, 70.0 pennies\n",
            "0 quarters, 0 dimes, 7 nickels, 65.0 pennies\n",
            "0 quarters, 0 dimes, 8 nickels, 60.0 pennies\n",
            "0 quarters, 0 dimes, 9 nickels, 55.0 pennies\n",
            "0 quarters, 0 dimes, 10 nickels, 50.0 pennies\n",
            "0 quarters, 0 dimes, 11 nickels, 45.0 pennies\n",
            "0 quarters, 0 dimes, 12 nickels, 40.0 pennies\n",
            "0 quarters, 0 dimes, 13 nickels, 35.0 pennies\n",
            "0 quarters, 0 dimes, 14 nickels, 30.0 pennies\n",
            "0 quarters, 0 dimes, 15 nickels, 25.0 pennies\n",
            "0 quarters, 0 dimes, 16 nickels, 20.0 pennies\n",
            "0 quarters, 0 dimes, 17 nickels, 15.0 pennies\n",
            "0 quarters, 0 dimes, 18 nickels, 10.0 pennies\n",
            "0 quarters, 0 dimes, 19 nickels, 5.0 pennies\n",
            "0 quarters, 0 dimes, 20 nickels, 0.0 pennies\n",
            "0 quarters, 1 dimes, 0 nickels, 90.0 pennies\n",
            "0 quarters, 1 dimes, 1 nickels, 85.0 pennies\n",
            "0 quarters, 1 dimes, 2 nickels, 80.0 pennies\n",
            "0 quarters, 1 dimes, 3 nickels, 75.0 pennies\n",
            "0 quarters, 1 dimes, 4 nickels, 70.0 pennies\n",
            "0 quarters, 1 dimes, 5 nickels, 65.0 pennies\n",
            "0 quarters, 1 dimes, 6 nickels, 60.0 pennies\n",
            "0 quarters, 1 dimes, 7 nickels, 55.0 pennies\n",
            "0 quarters, 1 dimes, 8 nickels, 50.0 pennies\n",
            "0 quarters, 1 dimes, 9 nickels, 45.0 pennies\n",
            "0 quarters, 1 dimes, 10 nickels, 40.0 pennies\n",
            "0 quarters, 1 dimes, 11 nickels, 35.0 pennies\n",
            "0 quarters, 1 dimes, 12 nickels, 30.0 pennies\n",
            "0 quarters, 1 dimes, 13 nickels, 25.0 pennies\n",
            "0 quarters, 1 dimes, 14 nickels, 20.0 pennies\n",
            "0 quarters, 1 dimes, 15 nickels, 15.0 pennies\n",
            "0 quarters, 1 dimes, 16 nickels, 10.0 pennies\n",
            "0 quarters, 1 dimes, 17 nickels, 5.0 pennies\n",
            "0 quarters, 1 dimes, 18 nickels, 0.0 pennies\n",
            "0 quarters, 2 dimes, 0 nickels, 80.0 pennies\n",
            "0 quarters, 2 dimes, 1 nickels, 75.0 pennies\n",
            "0 quarters, 2 dimes, 2 nickels, 70.0 pennies\n",
            "0 quarters, 2 dimes, 3 nickels, 65.0 pennies\n",
            "0 quarters, 2 dimes, 4 nickels, 60.0 pennies\n",
            "0 quarters, 2 dimes, 5 nickels, 55.0 pennies\n",
            "0 quarters, 2 dimes, 6 nickels, 50.0 pennies\n",
            "0 quarters, 2 dimes, 7 nickels, 45.0 pennies\n",
            "0 quarters, 2 dimes, 8 nickels, 40.0 pennies\n",
            "0 quarters, 2 dimes, 9 nickels, 35.0 pennies\n",
            "0 quarters, 2 dimes, 10 nickels, 30.0 pennies\n",
            "0 quarters, 2 dimes, 11 nickels, 25.0 pennies\n",
            "0 quarters, 2 dimes, 12 nickels, 20.0 pennies\n",
            "0 quarters, 2 dimes, 13 nickels, 15.0 pennies\n",
            "0 quarters, 2 dimes, 14 nickels, 10.0 pennies\n",
            "0 quarters, 2 dimes, 15 nickels, 5.0 pennies\n",
            "0 quarters, 2 dimes, 16 nickels, 0.0 pennies\n",
            "0 quarters, 3 dimes, 0 nickels, 70.0 pennies\n",
            "0 quarters, 3 dimes, 1 nickels, 65.0 pennies\n",
            "0 quarters, 3 dimes, 2 nickels, 60.0 pennies\n",
            "0 quarters, 3 dimes, 3 nickels, 55.0 pennies\n",
            "0 quarters, 3 dimes, 4 nickels, 50.0 pennies\n",
            "0 quarters, 3 dimes, 5 nickels, 45.0 pennies\n",
            "0 quarters, 3 dimes, 6 nickels, 40.0 pennies\n",
            "0 quarters, 3 dimes, 7 nickels, 35.0 pennies\n",
            "0 quarters, 3 dimes, 8 nickels, 30.0 pennies\n",
            "0 quarters, 3 dimes, 9 nickels, 25.0 pennies\n",
            "0 quarters, 3 dimes, 10 nickels, 20.0 pennies\n",
            "0 quarters, 3 dimes, 11 nickels, 15.0 pennies\n",
            "0 quarters, 3 dimes, 12 nickels, 10.0 pennies\n",
            "0 quarters, 3 dimes, 13 nickels, 5.0 pennies\n",
            "0 quarters, 3 dimes, 14 nickels, 0.0 pennies\n",
            "0 quarters, 4 dimes, 0 nickels, 60.0 pennies\n",
            "0 quarters, 4 dimes, 1 nickels, 55.0 pennies\n",
            "0 quarters, 4 dimes, 2 nickels, 50.0 pennies\n",
            "0 quarters, 4 dimes, 3 nickels, 45.0 pennies\n",
            "0 quarters, 4 dimes, 4 nickels, 40.0 pennies\n",
            "0 quarters, 4 dimes, 5 nickels, 35.0 pennies\n",
            "0 quarters, 4 dimes, 6 nickels, 30.0 pennies\n",
            "0 quarters, 4 dimes, 7 nickels, 25.0 pennies\n",
            "0 quarters, 4 dimes, 8 nickels, 20.0 pennies\n",
            "0 quarters, 4 dimes, 9 nickels, 15.0 pennies\n",
            "0 quarters, 4 dimes, 10 nickels, 10.0 pennies\n",
            "0 quarters, 4 dimes, 11 nickels, 5.0 pennies\n",
            "0 quarters, 4 dimes, 12 nickels, 0.0 pennies\n",
            "0 quarters, 5 dimes, 0 nickels, 50.0 pennies\n",
            "0 quarters, 5 dimes, 1 nickels, 45.0 pennies\n",
            "0 quarters, 5 dimes, 2 nickels, 40.0 pennies\n",
            "0 quarters, 5 dimes, 3 nickels, 35.0 pennies\n",
            "0 quarters, 5 dimes, 4 nickels, 30.0 pennies\n",
            "0 quarters, 5 dimes, 5 nickels, 25.0 pennies\n",
            "0 quarters, 5 dimes, 6 nickels, 20.0 pennies\n",
            "0 quarters, 5 dimes, 7 nickels, 15.0 pennies\n",
            "0 quarters, 5 dimes, 8 nickels, 10.0 pennies\n",
            "0 quarters, 5 dimes, 9 nickels, 5.0 pennies\n",
            "0 quarters, 5 dimes, 10 nickels, 0.0 pennies\n",
            "0 quarters, 6 dimes, 0 nickels, 40.0 pennies\n",
            "0 quarters, 6 dimes, 1 nickels, 35.0 pennies\n",
            "0 quarters, 6 dimes, 2 nickels, 30.0 pennies\n",
            "0 quarters, 6 dimes, 3 nickels, 25.0 pennies\n",
            "0 quarters, 6 dimes, 4 nickels, 20.0 pennies\n",
            "0 quarters, 6 dimes, 5 nickels, 15.0 pennies\n",
            "0 quarters, 6 dimes, 6 nickels, 10.0 pennies\n",
            "0 quarters, 6 dimes, 7 nickels, 5.0 pennies\n",
            "0 quarters, 6 dimes, 8 nickels, 0.0 pennies\n",
            "0 quarters, 7 dimes, 0 nickels, 30.0 pennies\n",
            "0 quarters, 7 dimes, 1 nickels, 25.0 pennies\n",
            "0 quarters, 7 dimes, 2 nickels, 20.0 pennies\n",
            "0 quarters, 7 dimes, 3 nickels, 15.0 pennies\n",
            "0 quarters, 7 dimes, 4 nickels, 10.0 pennies\n",
            "0 quarters, 7 dimes, 5 nickels, 5.0 pennies\n",
            "0 quarters, 7 dimes, 6 nickels, 0.0 pennies\n",
            "0 quarters, 8 dimes, 0 nickels, 20.0 pennies\n",
            "0 quarters, 8 dimes, 1 nickels, 15.0 pennies\n",
            "0 quarters, 8 dimes, 2 nickels, 10.0 pennies\n",
            "0 quarters, 8 dimes, 3 nickels, 5.0 pennies\n",
            "0 quarters, 8 dimes, 4 nickels, 0.0 pennies\n",
            "0 quarters, 9 dimes, 0 nickels, 10.0 pennies\n",
            "0 quarters, 9 dimes, 1 nickels, 5.0 pennies\n",
            "0 quarters, 9 dimes, 2 nickels, 0.0 pennies\n",
            "0 quarters, 10 dimes, 0 nickels, 0.0 pennies\n",
            "1 quarters, 0 dimes, 0 nickels, 75.0 pennies\n",
            "1 quarters, 0 dimes, 1 nickels, 70.0 pennies\n",
            "1 quarters, 0 dimes, 2 nickels, 65.0 pennies\n",
            "1 quarters, 0 dimes, 3 nickels, 60.0 pennies\n",
            "1 quarters, 0 dimes, 4 nickels, 55.0 pennies\n",
            "1 quarters, 0 dimes, 5 nickels, 50.0 pennies\n",
            "1 quarters, 0 dimes, 6 nickels, 45.0 pennies\n",
            "1 quarters, 0 dimes, 7 nickels, 40.0 pennies\n",
            "1 quarters, 0 dimes, 8 nickels, 35.0 pennies\n",
            "1 quarters, 0 dimes, 9 nickels, 30.0 pennies\n",
            "1 quarters, 0 dimes, 10 nickels, 25.0 pennies\n",
            "1 quarters, 0 dimes, 11 nickels, 20.0 pennies\n",
            "1 quarters, 0 dimes, 12 nickels, 15.0 pennies\n",
            "1 quarters, 0 dimes, 13 nickels, 10.0 pennies\n",
            "1 quarters, 0 dimes, 14 nickels, 5.0 pennies\n",
            "1 quarters, 0 dimes, 15 nickels, 0.0 pennies\n",
            "1 quarters, 1 dimes, 0 nickels, 65.0 pennies\n",
            "1 quarters, 1 dimes, 1 nickels, 60.0 pennies\n",
            "1 quarters, 1 dimes, 2 nickels, 55.0 pennies\n",
            "1 quarters, 1 dimes, 3 nickels, 50.0 pennies\n",
            "1 quarters, 1 dimes, 4 nickels, 45.0 pennies\n",
            "1 quarters, 1 dimes, 5 nickels, 40.0 pennies\n",
            "1 quarters, 1 dimes, 6 nickels, 35.0 pennies\n",
            "1 quarters, 1 dimes, 7 nickels, 30.0 pennies\n",
            "1 quarters, 1 dimes, 8 nickels, 25.0 pennies\n",
            "1 quarters, 1 dimes, 9 nickels, 20.0 pennies\n",
            "1 quarters, 1 dimes, 10 nickels, 15.0 pennies\n",
            "1 quarters, 1 dimes, 11 nickels, 10.0 pennies\n",
            "1 quarters, 1 dimes, 12 nickels, 5.0 pennies\n",
            "1 quarters, 1 dimes, 13 nickels, 0.0 pennies\n",
            "1 quarters, 2 dimes, 0 nickels, 55.0 pennies\n",
            "1 quarters, 2 dimes, 1 nickels, 50.0 pennies\n",
            "1 quarters, 2 dimes, 2 nickels, 45.0 pennies\n",
            "1 quarters, 2 dimes, 3 nickels, 40.0 pennies\n",
            "1 quarters, 2 dimes, 4 nickels, 35.0 pennies\n",
            "1 quarters, 2 dimes, 5 nickels, 30.0 pennies\n",
            "1 quarters, 2 dimes, 6 nickels, 25.0 pennies\n",
            "1 quarters, 2 dimes, 7 nickels, 20.0 pennies\n",
            "1 quarters, 2 dimes, 8 nickels, 15.0 pennies\n",
            "1 quarters, 2 dimes, 9 nickels, 10.0 pennies\n",
            "1 quarters, 2 dimes, 10 nickels, 5.0 pennies\n",
            "1 quarters, 2 dimes, 11 nickels, 0.0 pennies\n",
            "1 quarters, 3 dimes, 0 nickels, 45.0 pennies\n",
            "1 quarters, 3 dimes, 1 nickels, 40.0 pennies\n",
            "1 quarters, 3 dimes, 2 nickels, 35.0 pennies\n",
            "1 quarters, 3 dimes, 3 nickels, 30.0 pennies\n",
            "1 quarters, 3 dimes, 4 nickels, 25.0 pennies\n",
            "1 quarters, 3 dimes, 5 nickels, 20.0 pennies\n",
            "1 quarters, 3 dimes, 6 nickels, 15.0 pennies\n",
            "1 quarters, 3 dimes, 7 nickels, 10.0 pennies\n",
            "1 quarters, 3 dimes, 8 nickels, 5.0 pennies\n",
            "1 quarters, 3 dimes, 9 nickels, 0.0 pennies\n",
            "1 quarters, 4 dimes, 0 nickels, 35.0 pennies\n",
            "1 quarters, 4 dimes, 1 nickels, 30.0 pennies\n",
            "1 quarters, 4 dimes, 2 nickels, 25.0 pennies\n",
            "1 quarters, 4 dimes, 3 nickels, 20.0 pennies\n",
            "1 quarters, 4 dimes, 4 nickels, 15.0 pennies\n",
            "1 quarters, 4 dimes, 5 nickels, 10.0 pennies\n",
            "1 quarters, 4 dimes, 6 nickels, 5.0 pennies\n",
            "1 quarters, 4 dimes, 7 nickels, 0.0 pennies\n",
            "1 quarters, 5 dimes, 0 nickels, 25.0 pennies\n",
            "1 quarters, 5 dimes, 1 nickels, 20.0 pennies\n",
            "1 quarters, 5 dimes, 2 nickels, 15.0 pennies\n",
            "1 quarters, 5 dimes, 3 nickels, 10.0 pennies\n",
            "1 quarters, 5 dimes, 4 nickels, 5.0 pennies\n",
            "1 quarters, 5 dimes, 5 nickels, 0.0 pennies\n",
            "1 quarters, 6 dimes, 0 nickels, 15.0 pennies\n",
            "1 quarters, 6 dimes, 1 nickels, 10.0 pennies\n",
            "1 quarters, 6 dimes, 2 nickels, 5.0 pennies\n",
            "1 quarters, 6 dimes, 3 nickels, 0.0 pennies\n",
            "1 quarters, 7 dimes, 0 nickels, 5.0 pennies\n",
            "1 quarters, 7 dimes, 1 nickels, 0.0 pennies\n",
            "2 quarters, 0 dimes, 0 nickels, 50.0 pennies\n",
            "2 quarters, 0 dimes, 1 nickels, 45.0 pennies\n",
            "2 quarters, 0 dimes, 2 nickels, 40.0 pennies\n",
            "2 quarters, 0 dimes, 3 nickels, 35.0 pennies\n",
            "2 quarters, 0 dimes, 4 nickels, 30.0 pennies\n",
            "2 quarters, 0 dimes, 5 nickels, 25.0 pennies\n",
            "2 quarters, 0 dimes, 6 nickels, 20.0 pennies\n",
            "2 quarters, 0 dimes, 7 nickels, 15.0 pennies\n",
            "2 quarters, 0 dimes, 8 nickels, 10.0 pennies\n",
            "2 quarters, 0 dimes, 9 nickels, 5.0 pennies\n",
            "2 quarters, 0 dimes, 10 nickels, 0.0 pennies\n",
            "2 quarters, 1 dimes, 0 nickels, 40.0 pennies\n",
            "2 quarters, 1 dimes, 1 nickels, 35.0 pennies\n",
            "2 quarters, 1 dimes, 2 nickels, 30.0 pennies\n",
            "2 quarters, 1 dimes, 3 nickels, 25.0 pennies\n",
            "2 quarters, 1 dimes, 4 nickels, 20.0 pennies\n",
            "2 quarters, 1 dimes, 5 nickels, 15.0 pennies\n",
            "2 quarters, 1 dimes, 6 nickels, 10.0 pennies\n",
            "2 quarters, 1 dimes, 7 nickels, 5.0 pennies\n",
            "2 quarters, 1 dimes, 8 nickels, 0.0 pennies\n",
            "2 quarters, 2 dimes, 0 nickels, 30.0 pennies\n",
            "2 quarters, 2 dimes, 1 nickels, 25.0 pennies\n",
            "2 quarters, 2 dimes, 2 nickels, 20.0 pennies\n",
            "2 quarters, 2 dimes, 3 nickels, 15.0 pennies\n",
            "2 quarters, 2 dimes, 4 nickels, 10.0 pennies\n",
            "2 quarters, 2 dimes, 5 nickels, 5.0 pennies\n",
            "2 quarters, 2 dimes, 6 nickels, 0.0 pennies\n",
            "2 quarters, 3 dimes, 0 nickels, 20.0 pennies\n",
            "2 quarters, 3 dimes, 1 nickels, 15.0 pennies\n",
            "2 quarters, 3 dimes, 2 nickels, 10.0 pennies\n",
            "2 quarters, 3 dimes, 3 nickels, 5.0 pennies\n",
            "2 quarters, 3 dimes, 4 nickels, 0.0 pennies\n",
            "2 quarters, 4 dimes, 0 nickels, 10.0 pennies\n",
            "2 quarters, 4 dimes, 1 nickels, 5.0 pennies\n",
            "2 quarters, 4 dimes, 2 nickels, 0.0 pennies\n",
            "2 quarters, 5 dimes, 0 nickels, 0.0 pennies\n",
            "3 quarters, 0 dimes, 0 nickels, 25.0 pennies\n",
            "3 quarters, 0 dimes, 1 nickels, 20.0 pennies\n",
            "3 quarters, 0 dimes, 2 nickels, 15.0 pennies\n",
            "3 quarters, 0 dimes, 3 nickels, 10.0 pennies\n",
            "3 quarters, 0 dimes, 4 nickels, 5.0 pennies\n",
            "3 quarters, 0 dimes, 5 nickels, 0.0 pennies\n",
            "3 quarters, 1 dimes, 0 nickels, 15.0 pennies\n",
            "3 quarters, 1 dimes, 1 nickels, 10.0 pennies\n",
            "3 quarters, 1 dimes, 2 nickels, 5.0 pennies\n",
            "3 quarters, 1 dimes, 3 nickels, 0.0 pennies\n",
            "3 quarters, 2 dimes, 0 nickels, 5.0 pennies\n",
            "3 quarters, 2 dimes, 1 nickels, 0.0 pennies\n",
            "4 quarters, 0 dimes, 0 nickels, 0.0 pennies\n"
          ],
          "name": "stdout"
        }
      ]
    },
    {
      "cell_type": "markdown",
      "metadata": {
        "id": "rUPDjYiIkbgs"
      },
      "source": [
        "##### Q7. Ask the user to enter two positive integers between 1 and 100. Read those integers. Then output a multiplication table of the first number times the second number. \n",
        "\n",
        "Note: You have to ensure the entered numbers are between 1 and 100 only.\n",
        "\n",
        "```\n",
        "Please enter an integer: 5\n",
        "Please enter another integer: 20\n",
        "5 x 1 = 5\n",
        "5 x 2 = 10\n",
        "5 x 3 = 15\n",
        "…\n",
        "5 x 20 = 100\n",
        "```"
      ]
    },
    {
      "cell_type": "code",
      "metadata": {
        "id": "Qg0Orv1klHzA"
      },
      "source": [
        "# Type solution here\n",
        "a = int(input(\"Enter an integer: \"))\n",
        "if a < 1 or a > 100:\n",
        "  print('worong input')\n",
        "b = int(input(\"Please enter another integer: \"))\n",
        "if b < 1 or b > 100:\n",
        "  print('worong input')\n",
        "for bb in range(1, b + 1):\n",
        "  print('{} x {} = {}'.format(a, bb, a * bb))\n",
        "\n"
      ],
      "execution_count": null,
      "outputs": []
    },
    {
      "cell_type": "markdown",
      "metadata": {
        "id": "SbnbPUPTlLD9"
      },
      "source": [
        "##### Q8. Write a program to ask the user to enter a password. Then check to see if it is a valid password based on these requirements -\n",
        "\n",
        "Must be at least 8 characters long\n",
        "\n",
        "Must contain both uppercase and lowercase letters\n",
        "\n",
        "Must contain at least one number between 0-9\n",
        "\n",
        "Must contain a special character -!,@,#,$\n",
        "\n",
        "If the password is not valid, ask the user to re-enter. This should continue until the user enters a valid password. After a valid password is entered, print Access Granted!\n",
        "\n",
        "```\n",
        "Please enter a password. Follow these requirements - \n",
        "a. Must be at least 8 characters long\n",
        "b. Must contain both uppercase and lowercase letters\n",
        "c. Must contain at least one number between 0-9\n",
        "d. Must contain a special character -!,@,#,$\n",
        "Password: HelloWorld1\n",
        "Invalid password. Try again!\n",
        "Password: Hello@World1\n",
        "Access Granted!\n",
        "```\n"
      ]
    },
    {
      "cell_type": "code",
      "metadata": {
        "id": "OXmZ177Rl-RV"
      },
      "source": [
        "# Type solution here\n",
        "print('''Please enter a password. Follow these requirements - \n",
        "a. Must be at least 8 characters long\n",
        "b. Must contain both uppercase and lowercase letters\n",
        "c. Must contain at least one number between 0-9\n",
        "d. Must contain a special character -!,@,#,$''')\n",
        "def have_lower(inp):\n",
        "  for a in inp:\n",
        "    if 'a' <= a <= 'z':\n",
        "      return True\n",
        "  return False\n",
        "\n",
        "def have_number(inp):\n",
        "  for a in inp:\n",
        "    if a >= '0' and a <= '9':\n",
        "      return True\n",
        "  return False\n",
        "\n",
        "def have_sp(inp):\n",
        "  for a in inp:\n",
        "    if a in ['!','@','#','$']:\n",
        "      return True\n",
        "  return False\n",
        "\n",
        "def have_upper(inp):\n",
        "  for a in inp:\n",
        "    if 'A' <= a <= 'Z':\n",
        "      return True\n",
        "  return False\n",
        "    \n",
        "\n",
        "while True:\n",
        "  pw = input(\"Password: \")\n",
        "  if len(pw) >= 8 and have_upper(pw) and have_lower(pw) and have_sp(pw) and have_number(pw):\n",
        "    print('Access Granted!')\n",
        "    break\n",
        "  print('Invalid password. Try again!')\n"
      ],
      "execution_count": null,
      "outputs": []
    },
    {
      "cell_type": "markdown",
      "metadata": {
        "id": "-0sdutTDnTKA"
      },
      "source": [
        "##### Q9. Given the score sheet of participants in a competition, you are required to find the runner-up score. You are given scores in a list. Find the score of the runner-up.\n",
        "\n",
        "```\n",
        "list1 - [2, 3, 6, 6, 5]\n",
        "runner_up - 5\n",
        "\n",
        "list2 - [1, 7, 5, 3, 10, 4, 5, 5, 6, 11]\n",
        "runner_up - 10\n",
        "```"
      ]
    },
    {
      "cell_type": "code",
      "metadata": {
        "id": "12YP9OaqpGRK"
      },
      "source": [
        "def solve(inp_list):\n",
        "  print('list - ', inp_list)\n",
        "  new_list = sorted(inp_list, reverse=True)\n",
        "  # print(new_list[1:])\n",
        "  for i, v in enumerate(new_list):\n",
        "    if i == 0:\n",
        "      continue\n",
        "    if v != new_list[i - 1]:\n",
        "      print('runner_up - ', v)\n",
        "      break\n",
        "\n",
        "solve([2, 3, 6, 6, 5])\n",
        "solve([1, 7, 5, 3, 10, 4, 5, 5, 6, 11])\n"
      ],
      "execution_count": null,
      "outputs": []
    }
  ]
}